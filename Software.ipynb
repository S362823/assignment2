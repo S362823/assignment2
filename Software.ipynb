{
 "cells": [
  {
   "cell_type": "code",
   "execution_count": 41,
   "id": "ed63a4dc",
   "metadata": {},
   "outputs": [],
   "source": [
    "#Importing Required Libraries\n",
    "import random\n",
    "import tkinter as tk\n",
    "from tkinter import messagebox"
   ]
  },
  {
   "cell_type": "code",
   "execution_count": 42,
   "id": "3797b680",
   "metadata": {},
   "outputs": [],
   "source": [
    "#Defining Class GuessTheNumberGame\n",
    "class GuessTheNumberGame:\n",
    "    def __init__(self):\n",
    "        self.secret_number = str(random.randint(1000, 9999))\n",
    "        self.attempts = 0\n",
    "\n",
    "    def check_guess(self, guess):\n",
    "        self.attempts += 1\n",
    "        if guess == self.secret_number:\n",
    "            return \"Congratulations! You guessed the number in {} attempts.\".format(self.attempts)\n",
    "        else:\n",
    "            feedback = \"\"\n",
    "            for i in range(4):\n",
    "                if guess[i] == self.secret_number[i]:\n",
    "                    feedback += \"circle \"\n",
    "                elif guess[i] in self.secret_number:\n",
    "                    feedback += \"x \"\n",
    "                else:\n",
    "                    feedback += \"- \"\n",
    "            return feedback.strip()\n"
   ]
  },
  {
   "cell_type": "code",
   "execution_count": 43,
   "id": "367993fd",
   "metadata": {},
   "outputs": [],
   "source": [
    "#Defining Class GuessNumberGUI\n",
    "class GuessNumberGUI:\n",
    "    def __init__(self, root):\n",
    "        self.root = root\n",
    "        self.root.title(\"Guess the Number Game\")\n",
    "\n",
    "        self.game = GuessTheNumberGame()\n",
    "\n",
    "        self.label = tk.Label(root, text=\"Enter your guess:\")\n",
    "        self.label.pack()\n",
    "\n",
    "        self.entry = tk.Entry(root)\n",
    "        self.entry.pack()\n",
    "\n",
    "        self.button = tk.Button(root, text=\"Check Guess\", command=self.check_guess)\n",
    "        self.button.pack()\n",
    "\n",
    "    def check_guess(self):\n",
    "        guess = self.entry.get()\n",
    "        feedback = self.game.check_guess(guess)\n",
    "        messagebox.showinfo(\"Guess Result\", feedback)"
   ]
  },
  {
   "cell_type": "code",
   "execution_count": null,
   "id": "2c732f11",
   "metadata": {},
   "outputs": [],
   "source": [
    "\n",
    "if __name__ == \"__main__\":\n",
    "    root = tk.Tk()\n",
    "    app = GuessNumberGUI(root)\n",
    "    root.mainloop()\n"
   ]
  },
  {
   "cell_type": "code",
   "execution_count": null,
   "id": "2e6e2369",
   "metadata": {},
   "outputs": [],
   "source": []
  }
 ],
 "metadata": {
  "kernelspec": {
   "display_name": "Python 3 (ipykernel)",
   "language": "python",
   "name": "python3"
  },
  "language_info": {
   "codemirror_mode": {
    "name": "ipython",
    "version": 3
   },
   "file_extension": ".py",
   "mimetype": "text/x-python",
   "name": "python",
   "nbconvert_exporter": "python",
   "pygments_lexer": "ipython3",
   "version": "3.9.13"
  }
 },
 "nbformat": 4,
 "nbformat_minor": 5
}
